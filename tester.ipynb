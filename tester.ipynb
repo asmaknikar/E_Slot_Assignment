{
 "cells": [
  {
   "cell_type": "code",
   "execution_count": 15,
   "metadata": {},
   "outputs": [],
   "source": [
    "import pandas as pd\n",
    "from datetime import timedelta\n",
    "import matplotlib.pyplot as plt\n",
    "from tqdm import tqdm_notebook as tqdm\n",
    "import numpy as np \n",
    "import seaborn as sns\n",
    "from statsmodels.stats.outliers_influence import variance_inflation_factor\n",
    "from sklearn.model_selection import train_test_split\n",
    "from sklearn.linear_model import LogisticRegression\n",
    "from sklearn.svm import SVC,LinearSVC\n",
    "from sklearn.metrics import accuracy_score\n",
    "from sklearn.model_selection import cross_val_score\n",
    "from sklearn.metrics import confusion_matrix\n",
    "from  sklearn.preprocessing import StandardScaler\n",
    "from sklearn.decomposition import PCA\n",
    "from sklearn.preprocessing import scale\n",
    "from sklearn.metrics import precision_recall_curve\n",
    "import matplotlib.pyplot as plt\n",
    "from sklearn.utils.fixes import signature\n",
    "from sklearn.metrics import average_precision_score\n",
    "from sklearn.tree import DecisionTreeClassifier\n",
    "from sklearn.ensemble import RandomForestClassifier\n",
    "from sklearn.discriminant_analysis import QuadraticDiscriminantAnalysis\n",
    "from sklearn.metrics import precision_recall_curve\n",
    "from sklearn.externals import joblib\n",
    "%matplotlib inline"
   ]
  },
  {
   "cell_type": "code",
   "execution_count": 16,
   "metadata": {},
   "outputs": [],
   "source": [
    "def PCAconv(data,n=13):\n",
    "    tmp=StandardScaler().fit_transform(data.values)\n",
    "    pca = PCA(n_components=n)\n",
    "    tmp.shape\n",
    "    # np.isnan(np.min(tmp))\n",
    "    principalComponents = pca.fit_transform(tmp)\n",
    "    \n",
    "    X = pd.DataFrame(data = principalComponents)\n",
    "    X.shape\n",
    "    return(X)"
   ]
  },
  {
   "cell_type": "code",
   "execution_count": 17,
   "metadata": {},
   "outputs": [],
   "source": [
    "def plot_roc_curve(fpr, tpr, label=None):\n",
    "    \"\"\"\n",
    "    The ROC curve, modified from \n",
    "    Hands-On Machine learning with Scikit-Learn and TensorFlow; p.91\n",
    "    \"\"\"\n",
    "    plt.figure(figsize=(8,8))\n",
    "    plt.title('ROC Curve')\n",
    "    plt.plot(fpr, tpr, linewidth=2, label=label)\n",
    "    plt.plot([0, 1], [0, 1], 'k--')\n",
    "    plt.axis([-0.005, 1, 0, 1.005])\n",
    "    plt.xticks(np.arange(0,1, 0.05), rotation=90)\n",
    "    plt.xlabel(\"False Positive Rate\")\n",
    "    plt.ylabel(\"True Positive Rate (Recall)\")\n",
    "    plt.legend(loc='best')"
   ]
  },
  {
   "cell_type": "code",
   "execution_count": 24,
   "metadata": {},
   "outputs": [],
   "source": [
    "def testing(filename,filename2):\n",
    "    data=pd.read_excel(filename).dropna()\n",
    "    data['time_sourced']=(data.datetime_sourced-data.datetime_ordered).map(lambda x:int(x.seconds/(60)))\n",
    "    data['time_make']=(data.datetime_product_ready-data.datetime_ordered).map(lambda x: int(x.seconds/(3600)))\n",
    "    data['time_ready']=(data.datetime_product_ready-data.datetime_ordered).map(lambda x: int(x.days/(1)))\n",
    "    data_corr=data;\n",
    "    data_corr=data_corr.drop(['order_id','delivered_to_plan','datetime_ordered','datetime_sourced','datetime_product_ready','datetime_planned'],axis=1)\n",
    "    col=['country','shipping_method','facility','product_category','on_sale']#categorical colums\n",
    "    tmp=[];\n",
    "    for i,j in enumerate(col):\n",
    "        a=data_corr[j].unique()\n",
    "        tmp.append(dict(zip(a,list(range(0,len(a))))))\n",
    "#         print(tmp[i])\n",
    "        data_corr[j]=data_corr[j].map(tmp[i])\n",
    "    X=PCAconv(data_corr,13)\n",
    "    \n",
    "    \n",
    "    \n",
    "    classifier = joblib.load(filename2)\n",
    "    \n",
    "    y_pred = classifier.predict(X)\n",
    "#     scores = cross_val_score(classifier, X, y, cv=5,verbose=1)\n",
    "#     y_pred = classifier.predict(X_test)\n",
    "\n",
    "#     tn, fp, fn, tp = confusion_matrix(y_test, y_pred).ravel()\n",
    "#     precision = tp/(tp+fp)\n",
    "#     fpr,tpr,auc_scores=roc_curve(y_test,y_pred_[:,1])\n",
    "#     y_pred_ = classifier.predict_proba(X_test.values)\n",
    "#     # print(y_pred_)\n",
    "#     fpr,tpr,auc_scores=roc_curve(y_test,y_pred_[:,1])\n",
    "#     # print(fpr,tpr,auc_scores)\n",
    "#     print('Confusion Matrix',confusion_matrix(y_test, y_pred))\n",
    "#     print('Accuracy Score',accuracy_score(y_test, y_pred))\n",
    "\n",
    "#     plot_roc_curve(fpr,tpr)\n",
    "#     print(accuracy_score(y_test, y_pred))\n",
    "    sub=pd.Dataframe(data=y_pred)\n",
    "    sub.to_csv('Predicted.csv')"
   ]
  },
  {
   "cell_type": "code",
   "execution_count": 25,
   "metadata": {},
   "outputs": [
    {
     "ename": "AttributeError",
     "evalue": "module 'pandas' has no attribute 'Dataframe'",
     "output_type": "error",
     "traceback": [
      "\u001b[1;31m---------------------------------------------------------------------------\u001b[0m",
      "\u001b[1;31mAttributeError\u001b[0m                            Traceback (most recent call last)",
      "\u001b[1;32m<ipython-input-25-42ecabf42a29>\u001b[0m in \u001b[0;36m<module>\u001b[1;34m()\u001b[0m\n\u001b[1;32m----> 1\u001b[1;33m \u001b[0mtesting\u001b[0m\u001b[1;33m(\u001b[0m\u001b[1;34mr\"D:\\files\\5th Sem\\MS4110-Introduction to Data Analytics\\assignment\\CASE STUDY_DATA_LATE DELIVERY ROOT CAUSE.xlsx\"\u001b[0m\u001b[1;33m,\u001b[0m\u001b[1;34m'final.joblib'\u001b[0m\u001b[1;33m)\u001b[0m\u001b[1;33m\u001b[0m\u001b[0m\n\u001b[0m",
      "\u001b[1;32m<ipython-input-24-74a3405e6493>\u001b[0m in \u001b[0;36mtesting\u001b[1;34m(filename, filename2)\u001b[0m\n\u001b[0;32m     35\u001b[0m \u001b[1;31m#     plot_roc_curve(fpr,tpr)\u001b[0m\u001b[1;33m\u001b[0m\u001b[1;33m\u001b[0m\u001b[0m\n\u001b[0;32m     36\u001b[0m \u001b[1;31m#     print(accuracy_score(y_test, y_pred))\u001b[0m\u001b[1;33m\u001b[0m\u001b[1;33m\u001b[0m\u001b[0m\n\u001b[1;32m---> 37\u001b[1;33m     \u001b[0msub\u001b[0m\u001b[1;33m=\u001b[0m\u001b[0mpd\u001b[0m\u001b[1;33m.\u001b[0m\u001b[0mDataframe\u001b[0m\u001b[1;33m(\u001b[0m\u001b[0mdata\u001b[0m\u001b[1;33m=\u001b[0m\u001b[0my_pred\u001b[0m\u001b[1;33m)\u001b[0m\u001b[1;33m\u001b[0m\u001b[0m\n\u001b[0m\u001b[0;32m     38\u001b[0m     \u001b[0msub\u001b[0m\u001b[1;33m.\u001b[0m\u001b[0mto_csv\u001b[0m\u001b[1;33m(\u001b[0m\u001b[1;34m'Predicted.csv'\u001b[0m\u001b[1;33m)\u001b[0m\u001b[1;33m\u001b[0m\u001b[0m\n",
      "\u001b[1;31mAttributeError\u001b[0m: module 'pandas' has no attribute 'Dataframe'"
     ]
    }
   ],
   "source": [
    "testing(r\"D:\\files\\5th Sem\\MS4110-Introduction to Data Analytics\\assignment\\CASE STUDY_DATA_LATE DELIVERY ROOT CAUSE.xlsx\",'final.joblib')"
   ]
  },
  {
   "cell_type": "code",
   "execution_count": null,
   "metadata": {},
   "outputs": [],
   "source": []
  }
 ],
 "metadata": {
  "kernelspec": {
   "display_name": "Python 3",
   "language": "python",
   "name": "python3"
  },
  "language_info": {
   "codemirror_mode": {
    "name": "ipython",
    "version": 3
   },
   "file_extension": ".py",
   "mimetype": "text/x-python",
   "name": "python",
   "nbconvert_exporter": "python",
   "pygments_lexer": "ipython3",
   "version": "3.6.1"
  }
 },
 "nbformat": 4,
 "nbformat_minor": 2
}
