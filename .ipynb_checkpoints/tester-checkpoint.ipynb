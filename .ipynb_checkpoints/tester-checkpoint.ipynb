{
 "cells": [
  {
   "cell_type": "code",
   "execution_count": null,
   "metadata": {},
   "outputs": [],
   "source": [
    "def PCAconv(data,n=13):\n",
    "    tmp=StandardScaler().fit_transform(data.values)\n",
    "    pca = PCA(n_components=n)\n",
    "    tmp.shape\n",
    "    # np.isnan(np.min(tmp))\n",
    "    principalComponents = pca.fit_transform(tmp)\n",
    "    \n",
    "    X = pd.DataFrame(data = principalComponents)\n",
    "    X.shape\n",
    "    return(X)"
   ]
  },
  {
   "cell_type": "code",
   "execution_count": null,
   "metadata": {},
   "outputs": [],
   "source": [
    "def testing(filename,filename2):\n",
    "    data=pd.read_excel(filename)\n",
    "    data['time_sourced']=(data.datetime_sourced-data.datetime_ordered).map(lambda x:int(x.seconds/(60)))\n",
    "    data['time_make']=(data.datetime_product_ready-data.datetime_ordered).map(lambda x: int(x.seconds/(3600)))\n",
    "    data['time_ready']=(data.datetime_product_ready-data.datetime_ordered).map(lambda x: int(x.days/(1)))\n",
    "    data_corr=data;\n",
    "    data_corr=data_corr.drop(['order_id','delivered_to_plan','datetime_ordered','datetime_sourced','datetime_product_ready','datetime_planned'],axis=1)\n",
    "    col=['country','shipping_method','facility','product_category','on_sale']#categorical colums\n",
    "    tmp=[];\n",
    "    for i,j in enumerate(col):\n",
    "        a=data_corr[j].unique()\n",
    "        tmp.append(dict(zip(a,list(range(0,len(a))))))\n",
    "        print(tmp[i])\n",
    "        data_corr[j]=data_corr[j].map(tmp[i])\n",
    "    X=PCAconv(data_corr,11)\n",
    "    \n",
    "    \n",
    "    \n",
    "    classifier = joblib.load(filename2)\n",
    "    \n",
    "    y_pred = classifier.predict(X)\n",
    "#     print(accuracy_score(y_test, y_pred))\n",
    "    sub=pandas.Dataframe(data=y_pred)\n",
    "    sub.to_csv('Predicted.csv')"
   ]
  },
  {
   "cell_type": "code",
   "execution_count": null,
   "metadata": {},
   "outputs": [],
   "source": [
    "testing(0)"
   ]
  }
 ],
 "metadata": {
  "kernelspec": {
   "display_name": "Python 3",
   "language": "python",
   "name": "python3"
  },
  "language_info": {
   "codemirror_mode": {
    "name": "ipython",
    "version": 3
   },
   "file_extension": ".py",
   "mimetype": "text/x-python",
   "name": "python",
   "nbconvert_exporter": "python",
   "pygments_lexer": "ipython3",
   "version": "3.6.1"
  }
 },
 "nbformat": 4,
 "nbformat_minor": 2
}
